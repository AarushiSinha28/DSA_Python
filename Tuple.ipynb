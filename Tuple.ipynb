a =(10,200.45,"abc",'d')
type(a)
a[1]
a[-1]
a[1:-1]
len(a)
a.count(10)
a.index('d')
a[1] = 300.45
atuple = ()
atuple = (10)
type(atuple)
atuple = (10, )
type(atuple)
atuple = tuple(["this","is","a","tuple"])
atupleatuple = tuple("tuple")
atuple
a,b,c = (10, 20, 30)
def sum_and_product(x, y)
    return x+y, x*y
print("sum,product=", sum_and_product(100,100))
a,b = b,a


