{
 "cells": [
  {
   "cell_type": "code",
   "execution_count": null,
   "metadata": {},
   "outputs": [],
   "source": [
    "capitals = {\n",
    "    \"USA\" : \"Washington DC\",\n",
    "    \"UK\" : \"London\",\n",
    "    \"Germany\" : \"Berlin\"\n",
    "    \"Malaysia\" : \"Kuala Lumpur\",\n",
    "    \"Japan\" : \"Tokyo\"\n",
    "}"
   ]
  },
  {
   "cell_type": "code",
   "execution_count": null,
   "metadata": {},
   "outputs": [],
   "source": [
    "type(capitals)"
   ]
  }
 ],
 "metadata": {
  "language_info": {
   "name": "python"
  }
 },
 "nbformat": 4,
 "nbformat_minor": 2
}
